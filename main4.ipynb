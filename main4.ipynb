{
 "cells": [
  {
   "cell_type": "code",
   "execution_count": 1,
   "metadata": {},
   "outputs": [],
   "source": [
    "import os\n",
    "from utils import number_to_four_digit_string, download_image\n",
    "from config import name_of_book, client, image_model, image_genre\n",
    "\n",
    "image_file_directory = os.path.join(name_of_book, \"images\")\n",
    "text_chunk_directory = os.path.join(name_of_book, \"text_chunks\")\n"
   ]
  },
  {
   "cell_type": "code",
   "execution_count": 2,
   "metadata": {},
   "outputs": [],
   "source": [
    "if os.path.exists(image_file_directory):\n",
    "    image_files = [f for f in os.listdir(image_file_directory) if os.path.isfile(os.path.join(image_file_directory, f))]\n",
    "    image_files.sort()\n",
    "else:\n",
    "    exit()\n",
    "\n",
    "if os.path.exists(text_chunk_directory):\n",
    "    text_chunk_files = [f for f in os.listdir(text_chunk_directory) if os.path.isfile(os.path.join(text_chunk_directory, f))]\n",
    "    text_chunk_files.sort()\n",
    "else:\n",
    "    exit()\n",
    "    "
   ]
  },
  {
   "cell_type": "code",
   "execution_count": 3,
   "metadata": {},
   "outputs": [],
   "source": [
    "picture_book_filepath = os.path.join(name_of_book, name_of_book+\"_picturebook.md\")\n",
    "\n",
    "with open(picture_book_filepath, 'w') as file:\n",
    "    file.write(f'# This is {name_of_book}\\n')\n",
    "\n",
    "for image_file in image_files:\n",
    "    without_the_other_stuff = int(image_file.replace(\n",
    "        name_of_book+\"_image_\", \"\").replace(\".png\", \"\"))\n",
    "\n",
    "    full_image_filepath = os.path.join(\n",
    "        image_file_directory, image_file)\n",
    "    \n",
    "    text_chunk_filepath = os.path.join(\n",
    "        text_chunk_directory, name_of_book+number_to_four_digit_string(without_the_other_stuff)+\".txt\"\n",
    "    )\n",
    "\n",
    "    with open(text_chunk_filepath, 'r', encoding='utf-8') as file:\n",
    "        text_chunk = file.read()\n",
    "\n",
    "    with open(picture_book_filepath, 'a') as file:\n",
    "        file.write(text_chunk)\n",
    "        file.write(f'\\n![{name_of_book} Image {without_the_other_stuff}]({os.path.join(\"./\",\"images\",image_file)})\\n\\n')\n",
    "\n",
    "    \n",
    "    # full_image_filepath = os.path.join(image_file_directory, image_filename)\n",
    "    # if os.path.isfile(full_image_filepath):\n",
    "    #     continue\n",
    "\n",
    "    # with open(full_prompt_filepath, 'r', encoding='utf-8') as file:\n",
    "    #     image_prompt = file.read()\n",
    "\n",
    "\n"
   ]
  }
 ],
 "metadata": {
  "kernelspec": {
   "display_name": "picture_book-oYbvcmtK",
   "language": "python",
   "name": "python3"
  },
  "language_info": {
   "codemirror_mode": {
    "name": "ipython",
    "version": 3
   },
   "file_extension": ".py",
   "mimetype": "text/x-python",
   "name": "python",
   "nbconvert_exporter": "python",
   "pygments_lexer": "ipython3",
   "version": "3.10.12"
  }
 },
 "nbformat": 4,
 "nbformat_minor": 2
}
