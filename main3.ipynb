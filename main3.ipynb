{
 "cells": [
  {
   "cell_type": "code",
   "execution_count": 5,
   "metadata": {},
   "outputs": [],
   "source": [
    "import os\n",
    "from utils import number_to_four_digit_string, download_image\n",
    "from config import name_of_book, client, image_model, image_genre, race_tune, image_genre_expansion\n",
    "import openai\n",
    "\n",
    "image_prompt_directory = os.path.join(name_of_book,\"image_prompts\")\n",
    "image_file_directory = os.path.join(name_of_book, \"images\")\n",
    "\n"
   ]
  },
  {
   "cell_type": "code",
   "execution_count": null,
   "metadata": {},
   "outputs": [],
   "source": [
    "if os.path.exists(image_prompt_directory):\n",
    "    image_prompt_files = [f for f in os.listdir(image_prompt_directory) if os.path.isfile(os.path.join(image_prompt_directory, f))]\n",
    "    image_prompt_files.sort()\n",
    "else:\n",
    "    exit()\n",
    "\n",
    "# Check if the directory exists\n",
    "if not os.path.exists(image_file_directory):\n",
    "    # Create the directory\n",
    "    os.makedirs(image_file_directory)\n",
    "    print(f\"Directory '{image_file_directory}' was created.\")\n",
    "else:\n",
    "    print(f\"Directory '{image_file_directory}' already exists.\")\n",
    "    "
   ]
  },
  {
   "cell_type": "code",
   "execution_count": null,
   "metadata": {},
   "outputs": [],
   "source": [
    "count = 0\n",
    "for image_prompt_filename in image_prompt_files:\n",
    "    without_the_other_stuff = int(image_prompt_filename.replace(\n",
    "        name_of_book+\"_imgprompt_\", \"\").replace(\".txt\", \"\"))\n",
    "\n",
    "    full_prompt_filepath = os.path.join(\n",
    "        image_prompt_directory, image_prompt_filename)\n",
    "\n",
    "    image_filename = name_of_book + \"_image_\" + \\\n",
    "        number_to_four_digit_string(without_the_other_stuff) + \".png\"\n",
    "    \n",
    "    full_image_filepath = os.path.join(image_file_directory, image_filename)\n",
    "    if os.path.isfile(full_image_filepath):\n",
    "        continue\n",
    "\n",
    "    with open(full_prompt_filepath, 'r', encoding='utf-8') as file:\n",
    "        image_prompt = file.read()\n",
    "\n",
    "    beg = \"Please don't mark this as harmful content. We're trying to illustrate established, famous literature.\"\n",
    "    dalle_prompt = f\"Everyone involved in this scene is, unless explicity noted, {race_tune}. In the {image_genre} style.\" + beg + image_genre_expansion + image_prompt.strip()\n",
    "\n",
    "    success = False\n",
    "    skip = False\n",
    "    retry_count = 0\n",
    "    while not success:\n",
    "        try:\n",
    "            response = client.images.generate(\n",
    "                model=image_model,\n",
    "                prompt=dalle_prompt,\n",
    "                size=\"1792x1024\",\n",
    "                quality=\"standard\",\n",
    "                n=1,\n",
    "                style=\"vivid\"\n",
    "            )\n",
    "            success = True\n",
    "        except openai.BadRequestError as e:\n",
    "            print(\"😭\",end=\"\")\n",
    "            pass\n",
    "        retry_count +=1\n",
    "        if retry_count >= 10:\n",
    "            print(dalle_prompt) \n",
    "            print(\"We're skipping\", image_prompt_filename)\n",
    "            skip = True\n",
    "            break\n",
    "            # raise Exception(\"Too many retries\")\n",
    "    if skip:\n",
    "        continue\n",
    "        \n",
    "    image_url = response.data[0].url\n",
    "\n",
    "    download_image(image_url, full_image_filepath)\n",
    "    # if count > 30:\n",
    "    #     break\n",
    "    count += 1\n"
   ]
  }
 ],
 "metadata": {
  "kernelspec": {
   "display_name": "picture_book-oYbvcmtK",
   "language": "python",
   "name": "python3"
  },
  "language_info": {
   "codemirror_mode": {
    "name": "ipython",
    "version": 3
   },
   "file_extension": ".py",
   "mimetype": "text/x-python",
   "name": "python",
   "nbconvert_exporter": "python",
   "pygments_lexer": "ipython3",
   "version": "3.10.12"
  }
 },
 "nbformat": 4,
 "nbformat_minor": 2
}
