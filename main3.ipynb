{
 "cells": [
  {
   "cell_type": "code",
   "execution_count": null,
   "metadata": {},
   "outputs": [],
   "source": [
    "import os\n",
    "from utils import number_to_four_digit_string, download_image\n",
    "from config import name_of_book, client, image_model\n",
    "\n",
    "image_prompt_directory = os.path.join(name_of_book,\"image_prompts\")\n",
    "image_file_directory = os.path.join(name_of_book, \"images\")\n",
    "\n"
   ]
  },
  {
   "cell_type": "code",
   "execution_count": null,
   "metadata": {},
   "outputs": [],
   "source": [
    "if os.path.exists(image_prompt_directory):\n",
    "    image_prompt_files = [f for f in os.listdir(image_prompt_directory) if os.path.isfile(os.path.join(image_prompt_directory, f))]\n",
    "    image_prompt_files.sort()\n",
    "else:\n",
    "    exit()\n",
    "\n",
    "# Check if the directory exists\n",
    "if not os.path.exists(image_file_directory):\n",
    "    # Create the directory\n",
    "    os.makedirs(image_file_directory)\n",
    "    print(f\"Directory '{image_file_directory}' was created.\")\n",
    "else:\n",
    "    print(f\"Directory '{image_file_directory}' already exists.\")\n",
    "    "
   ]
  },
  {
   "cell_type": "code",
   "execution_count": 3,
   "metadata": {},
   "outputs": [],
   "source": [
    "count = 0\n",
    "for image_prompt_filename in image_prompt_files:\n",
    "    without_the_other_stuff = int(image_prompt_filename.replace(\n",
    "        name_of_book+\"_imgprompt_\", \"\").replace(\".txt\", \"\"))\n",
    "\n",
    "    full_prompt_filepath = os.path.join(\n",
    "        image_prompt_directory, image_prompt_filename)\n",
    "\n",
    "    image_filename = name_of_book + \"_image_\" + \\\n",
    "        number_to_four_digit_string(without_the_other_stuff) + \".png\"\n",
    "    \n",
    "    full_image_filepath = os.path.join(image_file_directory, image_filename)\n",
    "    if os.path.isfile(full_image_filepath):\n",
    "        continue\n",
    "\n",
    "    with open(full_prompt_filepath, 'r', encoding='utf-8') as file:\n",
    "        image_prompt = file.read()\n",
    "\n",
    "    response = client.images.generate(\n",
    "        model=image_model,\n",
    "        prompt=image_prompt.strip(),\n",
    "        size=\"1024x1024\",\n",
    "        quality=\"standard\",\n",
    "        n=1,\n",
    "    )\n",
    "\n",
    "    image_url = response.data[0].url\n",
    "\n",
    "    download_image(image_url, full_image_filepath)\n",
    "    if count > 20:\n",
    "        break\n",
    "    count += 1\n"
   ]
  }
 ],
 "metadata": {
  "kernelspec": {
   "display_name": "picture_book-oYbvcmtK",
   "language": "python",
   "name": "python3"
  },
  "language_info": {
   "codemirror_mode": {
    "name": "ipython",
    "version": 3
   },
   "file_extension": ".py",
   "mimetype": "text/x-python",
   "name": "python",
   "nbconvert_exporter": "python",
   "pygments_lexer": "ipython3",
   "version": "3.10.12"
  }
 },
 "nbformat": 4,
 "nbformat_minor": 2
}
